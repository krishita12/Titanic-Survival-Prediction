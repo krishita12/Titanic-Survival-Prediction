{
 "cells": [
  {
   "cell_type": "markdown",
   "metadata": {},
   "source": ["# Titanic Survival Prediction\n",
              "This notebook predicts survival of Titanic passengers using machine learning models."]
  }
 ],
 "metadata": {},
 "nbformat": 4,
 "nbformat_minor": 2
}
